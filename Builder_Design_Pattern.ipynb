{
  "nbformat": 4,
  "nbformat_minor": 0,
  "metadata": {
    "colab": {
      "provenance": []
    },
    "kernelspec": {
      "name": "python3",
      "display_name": "Python 3"
    },
    "language_info": {
      "name": "python"
    }
  },
  "cells": [
    {
      "cell_type": "markdown",
      "source": [
        "# Builder Design Pattern\n"
      ],
      "metadata": {
        "id": "DTBKKcyVOBai"
      }
    },
    {
      "cell_type": "markdown",
      "source": [
        "## Зачем нужен?"
      ],
      "metadata": {
        "id": "zoZkrP05OEYf"
      }
    },
    {
      "cell_type": "markdown",
      "source": [
        "* Отделить построение сложного объекта от его представления, чтобы один и тот же процесс построения мог создавать разные представления.\n",
        "* Увеличить контроль за промежуточными результатами"
      ],
      "metadata": {
        "id": "HrhJ7VkTOVah"
      }
    },
    {
      "cell_type": "markdown",
      "source": [
        "«Директор» вызывает службы «построителя» при интерпретации внешнего формата. «Построитель» создает часть сложного объекта каждый раз, когда он вызывается, и поддерживает все промежуточные состояния. Когда продукт готов, клиент получает результат от «строителя».\n",
        "\n",
        "Позволяет лучше контролировать процесс строительства. В отличие от шаблонов создания, которые создают продукты за один раз, шаблон Builder создает продукт шаг за шагом под контролем «директора»."
      ],
      "metadata": {
        "id": "qFIKyw8kOid8"
      }
    },
    {
      "cell_type": "markdown",
      "source": [
        "## Пример"
      ],
      "metadata": {
        "id": "gfqajG2nPiSk"
      }
    },
    {
      "cell_type": "markdown",
      "source": [
        "Шаблон Builder отделяет построение сложного объекта от его представления, так что один и тот же процесс построения может создавать разные представления. Этот шаблон используется ресторанами быстрого питания для создания детских блюд. Детское питание обычно состоит из основного блюда, гарнира, напитка и игрушки (например, гамбургера, картофеля фри, колы и игрушечного динозавра). Обратите внимание, что содержание детского питания может варьироваться, но процесс построения одинаков. Независимо от того, заказывает ли клиент гамбургер, чизбургер или курицу, процесс один и тот же. Сотрудник за прилавком приказывает бригаде собрать основной предмет, дополнительный предмет и игрушку. Затем эти предметы помещаются в сумку. Напиток помещается в чашку и остается снаружи пакета. Этот же процесс используется в конкурирующих ресторанах."
      ],
      "metadata": {
        "id": "5JzciJIvPjZ8"
      }
    },
    {
      "cell_type": "markdown",
      "source": [
        "![image.png](data:image/png;base64,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)"
      ],
      "metadata": {
        "id": "qZsYMkiXPoa-"
      }
    },
    {
      "cell_type": "markdown",
      "source": [
        "## Код"
      ],
      "metadata": {
        "id": "haBL67aKPqIm"
      }
    },
    {
      "cell_type": "code",
      "execution_count": null,
      "metadata": {
        "id": "EPN0E1pPNsXk"
      },
      "outputs": [],
      "source": [
        "import abc\n",
        "\n",
        "\n",
        "class Director:\n",
        "    \"\"\"\n",
        "    Директор вызывает методы строителя, фиксируя каждый этап\n",
        "    \"\"\"\n",
        "\n",
        "    def __init__(self):\n",
        "        self._builder = None\n",
        "\n",
        "    def construct(self, builder):\n",
        "        self._builder = builder\n",
        "        self._builder._build_part_a()\n",
        "        self._builder._build_part_b()\n",
        "        self._builder._build_part_c()\n",
        "\n",
        "\n",
        "class Builder(metaclass=abc.ABCMeta):\n",
        "    \"\"\"\n",
        "    Строитель абстракция\n",
        "    \"\"\"\n",
        "\n",
        "    def __init__(self):\n",
        "        self.product = Product()\n",
        "\n",
        "    @abc.abstractmethod\n",
        "    def _build_part_a(self):\n",
        "        pass\n",
        "\n",
        "    @abc.abstractmethod\n",
        "    def _build_part_b(self):\n",
        "        pass\n",
        "\n",
        "    @abc.abstractmethod\n",
        "    def _build_part_c(self):\n",
        "        pass\n",
        "\n",
        "\n",
        "class ConcreteBuilder(Builder):\n",
        "    \"\"\"\n",
        "    Строитель конкретного проекта со своими методами получения атрибутов продукта\n",
        "    \"\"\"\n",
        "\n",
        "    def _build_part_a(self):\n",
        "        pass\n",
        "\n",
        "    def _build_part_b(self):\n",
        "        pass\n",
        "\n",
        "    def _build_part_c(self):\n",
        "        pass\n",
        "\n",
        "\n",
        "class Product:\n",
        "    \"\"\"\n",
        "    Продукт, который мы хотим получить\n",
        "    \"\"\"\n",
        "\n",
        "    pass\n",
        "\n",
        "\n",
        "def main():\n",
        "    concrete_builder = ConcreteBuilder()\n",
        "    director = Director()\n",
        "    director.construct(concrete_builder)\n",
        "    product = concrete_builder.product\n",
        "\n",
        "\n",
        "if __name__ == \"__main__\":\n",
        "    main()"
      ]
    },
    {
      "cell_type": "code",
      "source": [
        "from abc import ABCMeta, abstractmethod\n",
        "\n",
        "class IBuilder(metaclass=ABCMeta):\n",
        "    \"The Builder Interface\"\n",
        "\n",
        "    @staticmethod\n",
        "    @abstractmethod\n",
        "    def build_part_a():\n",
        "        \"Build part a\"\n",
        "\n",
        "    @staticmethod\n",
        "    @abstractmethod\n",
        "    def build_part_b():\n",
        "        \"Build part b\"\n",
        "\n",
        "    @staticmethod\n",
        "    @abstractmethod\n",
        "    def build_part_c():\n",
        "        \"Build part c\"\n",
        "\n",
        "    @staticmethod\n",
        "    @abstractmethod\n",
        "    def get_result():\n",
        "        \"Return the final product\"\n",
        "\n",
        "class Builder(IBuilder):\n",
        "    \"The Concrete Builder.\"\n",
        "\n",
        "    def __init__(self):\n",
        "        self.product = Product()\n",
        "\n",
        "    def build_part_a(self):\n",
        "        self.product.parts.append('a')\n",
        "        return self\n",
        "\n",
        "    def build_part_b(self):\n",
        "        self.product.parts.append('b')\n",
        "        return self\n",
        "\n",
        "    def build_part_c(self):\n",
        "        self.product.parts.append('c')\n",
        "        return self\n",
        "\n",
        "    def get_result(self):\n",
        "        return self.product\n",
        "\n",
        "class Product():\n",
        "    \"The Product\"\n",
        "\n",
        "    def __init__(self):\n",
        "        self.parts = []\n",
        "\n",
        "class Director:\n",
        "    \"The Director, building a complex representation.\"\n",
        "\n",
        "    @staticmethod\n",
        "    def construct():\n",
        "        \"Constructs and returns the final product\"\n",
        "        return Builder()\\\n",
        "            .build_part_a()\\\n",
        "            .build_part_b()\\\n",
        "            .build_part_c()\\\n",
        "            .get_result()\n",
        "\n",
        "# The Client\n",
        "PRODUCT = Director.construct()\n",
        "print(PRODUCT.parts)"
      ],
      "metadata": {
        "id": "M3ZY_wvQRIVs"
      },
      "execution_count": null,
      "outputs": []
    },
    {
      "cell_type": "code",
      "source": [
        "from abc import ABCMeta, abstractmethod, abstractproperty\n",
        "class Movable():\n",
        "    __metaclass__=ABCMeta\n",
        "\n",
        "    @abstractmethod\n",
        "    def move():\n",
        "    \"\"\"Переместить объект\"\"\"\n",
        "    \n",
        "    @abstractproperty\n",
        "    def speed():\n",
        "    \"\"\"Скорость объекта\"\"\""
      ],
      "metadata": {
        "id": "iPyXjcXjSBs_"
      },
      "execution_count": null,
      "outputs": []
    },
    {
      "cell_type": "markdown",
      "source": [
        "## Задание"
      ],
      "metadata": {
        "id": "SNXyeX-3QRD5"
      }
    },
    {
      "cell_type": "markdown",
      "source": [
        "Мы Банк и подготавливаем данные для принятия решения по клиенту: одобрить или отказать по кредиту. Для этого нам нужно сделать: \n",
        "* запрос в БКИ\n",
        "* звонок на работу\n",
        "* оценить его недвижимость\n",
        "\n",
        "После этого мы упаковываем полученные данные и отправляем в скоринг для принятия решения. \n",
        "\n",
        "Задание:\n",
        "\n",
        "Создать на основе билдера структуру таких проверок\n",
        "\n",
        "Дополнительно:\n",
        "\n",
        "* Нам нужно настроить логирование каждого шага (через принт)\n",
        "* Теперь нам нужно еще и проверять судимости\n",
        "* Нам временно нужно перестат проверять недвижимость\n",
        "\n",
        "\n"
      ],
      "metadata": {
        "id": "VOEAtWt-STTy"
      }
    }
  ]
}